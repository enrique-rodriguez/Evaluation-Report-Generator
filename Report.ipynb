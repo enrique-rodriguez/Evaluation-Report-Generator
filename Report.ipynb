{
 "cells": [
  {
   "cell_type": "code",
   "execution_count": 2,
   "metadata": {},
   "outputs": [],
   "source": [
    "import re\n",
    "import pandas as pd\n",
    "from functools import reduce"
   ]
  },
  {
   "cell_type": "code",
   "execution_count": 3,
   "metadata": {},
   "outputs": [],
   "source": [
    "FILE = \"data/-29-junio-20-en-adelante-Evaluaci-n-Certificado-Profesional-en-Inteligencia-Emocional-Sec-C-pm-(2020-07-08).csv\"\n",
    "EVAL_QUESTION = \"Criterios de evaluación: >>\"\n",
    "df = pd.read_csv(FILE)"
   ]
  },
  {
   "cell_type": "code",
   "execution_count": 4,
   "metadata": {},
   "outputs": [],
   "source": [
    "# Matches evaluation strings like 'Excelente (4)\n",
    "pattern = \"(Excelente|Bueno|Regular|Deficiente) \\((?P<points>\\d)\\)\" \n",
    "\n",
    "program = re.compile(pattern)"
   ]
  },
  {
   "cell_type": "code",
   "execution_count": 9,
   "metadata": {},
   "outputs": [],
   "source": [
    "def calculate_points(total, match):      \n",
    "    if match:\n",
    "        total += int(match.group('points'))\n",
    "    return total"
   ]
  },
  {
   "cell_type": "code",
   "execution_count": 39,
   "metadata": {},
   "outputs": [
    {
     "name": "stdout",
     "output_type": "stream",
     "text": [
      "299\n"
     ]
    }
   ],
   "source": [
    "total_points = 0\n",
    "\n",
    "for column in df.columns:\n",
    "    if column.startswith(EVAL_QUESTION):\n",
    "        matches = [program.match(element) for element in df[column] if isinstance(element, str)]\n",
    "        total_points += reduce(calculate_points, matches, 0)\n",
    "\n",
    "print(total_points)"
   ]
  },
  {
   "cell_type": "code",
   "execution_count": 8,
   "metadata": {},
   "outputs": [
    {
     "name": "stdout",
     "output_type": "stream",
     "text": [
      "6\n"
     ]
    }
   ],
   "source": [
    "def count_questions(total, current):\n",
    "    if current.startswith(EVAL_QUESTION):\n",
    "        total += 1\n",
    "    return total\n",
    "\n",
    "total = reduce(count_questions, df.columns, 0)\n",
    "\n",
    "print(total//4)"
   ]
  },
  {
   "cell_type": "code",
   "execution_count": 61,
   "metadata": {},
   "outputs": [],
   "source": [
    "name = df[\"Nombre del Instructor:\"]"
   ]
  },
  {
   "cell_type": "code",
   "execution_count": 70,
   "metadata": {},
   "outputs": [
    {
     "name": "stdout",
     "output_type": "stream",
     "text": [
      "Dr. Edwin Morales\n"
     ]
    }
   ],
   "source": [
    "print(name.mode().iloc[0])"
   ]
  },
  {
   "cell_type": "code",
   "execution_count": null,
   "metadata": {},
   "outputs": [],
   "source": []
  }
 ],
 "metadata": {
  "kernelspec": {
   "display_name": "Python 3",
   "language": "python",
   "name": "python3"
  },
  "language_info": {
   "codemirror_mode": {
    "name": "ipython",
    "version": 3
   },
   "file_extension": ".py",
   "mimetype": "text/x-python",
   "name": "python",
   "nbconvert_exporter": "python",
   "pygments_lexer": "ipython3",
   "version": "3.7.7"
  }
 },
 "nbformat": 4,
 "nbformat_minor": 4
}
