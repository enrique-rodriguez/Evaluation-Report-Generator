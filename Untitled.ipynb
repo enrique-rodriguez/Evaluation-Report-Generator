{
 "cells": [
  {
   "cell_type": "code",
   "execution_count": 66,
   "metadata": {},
   "outputs": [],
   "source": [
    "import pandas as pd\n",
    "from random import choice"
   ]
  },
  {
   "cell_type": "code",
   "execution_count": 88,
   "metadata": {},
   "outputs": [],
   "source": [
    "FILE = \"data/-29-junio-20-en-adelante-Evaluaci-n-Certificado-Profesional-en-Inteligencia-Emocional-Sec-C-pm-(2020-07-08).csv\"\n",
    "PROFESSOR = \"Nombre del Instructor:\"\n",
    "\n",
    "names = [\n",
    "    \"Dr. Professor T. Johnson\",\n",
    "    \"Dr. Professor T. Johnson\",\n",
    "    \"Dr. Professor T. Johnson\",\n",
    "    \"DR. PROFESSOR T. JOHNSON\",\n",
    "    \"dr. professor t. johnson\",\n",
    "    \"professor t. johnson\",\n",
    "    \"Professor T. Johnson\"\n",
    "]"
   ]
  },
  {
   "cell_type": "code",
   "execution_count": 89,
   "metadata": {},
   "outputs": [],
   "source": [
    "df = pd.read_csv(FILE, lineterminator='\\n')"
   ]
  },
  {
   "cell_type": "code",
   "execution_count": 92,
   "metadata": {},
   "outputs": [],
   "source": [
    "df[PROFESSOR] = df[PROFESSOR].apply(lambda name: choice(names))"
   ]
  },
  {
   "cell_type": "code",
   "execution_count": 93,
   "metadata": {},
   "outputs": [
    {
     "data": {
      "text/plain": [
       "'Dr. Professor T. Johnson'"
      ]
     },
     "execution_count": 93,
     "metadata": {},
     "output_type": "execute_result"
    }
   ],
   "source": [
    "df[PROFESSOR].mode().loc[0]"
   ]
  },
  {
   "cell_type": "code",
   "execution_count": 94,
   "metadata": {},
   "outputs": [],
   "source": [
    "df.to_csv(\"data/test_evaluation.csv\", encoding='utf-8')"
   ]
  },
  {
   "cell_type": "code",
   "execution_count": 95,
   "metadata": {},
   "outputs": [
    {
     "data": {
      "text/plain": [
       "0     Dr. Professor T. Johnson\n",
       "1     Dr. Professor T. Johnson\n",
       "2         professor t. johnson\n",
       "3     dr. professor t. johnson\n",
       "4     Dr. Professor T. Johnson\n",
       "5     Dr. Professor T. Johnson\n",
       "6     dr. professor t. johnson\n",
       "7     Dr. Professor T. Johnson\n",
       "8     Dr. Professor T. Johnson\n",
       "9         professor t. johnson\n",
       "10        professor t. johnson\n",
       "11    DR. PROFESSOR T. JOHNSON\n",
       "12    Dr. Professor T. Johnson\n",
       "Name: Nombre del Instructor:, dtype: object"
      ]
     },
     "execution_count": 95,
     "metadata": {},
     "output_type": "execute_result"
    }
   ],
   "source": [
    "df[PROFESSOR]"
   ]
  },
  {
   "cell_type": "code",
   "execution_count": 101,
   "metadata": {},
   "outputs": [
    {
     "name": "stdout",
     "output_type": "stream",
     "text": [
      "Help on property:\n",
      "\n",
      "    Return a tuple representing the dimensionality of the DataFrame.\n",
      "    \n",
      "    See Also\n",
      "    --------\n",
      "    ndarray.shape\n",
      "    \n",
      "    Examples\n",
      "    --------\n",
      "    >>> df = pd.DataFrame({'col1': [1, 2], 'col2': [3, 4]})\n",
      "    >>> df.shape\n",
      "    (2, 2)\n",
      "    \n",
      "    >>> df = pd.DataFrame({'col1': [1, 2], 'col2': [3, 4],\n",
      "    ...                    'col3': [5, 6]})\n",
      "    >>> df.shape\n",
      "    (2, 3)\n",
      "\n"
     ]
    }
   ],
   "source": [
    "help(pd.DataFrame.shape)"
   ]
  },
  {
   "cell_type": "code",
   "execution_count": null,
   "metadata": {},
   "outputs": [],
   "source": []
  }
 ],
 "metadata": {
  "kernelspec": {
   "display_name": "Python 3",
   "language": "python",
   "name": "python3"
  },
  "language_info": {
   "codemirror_mode": {
    "name": "ipython",
    "version": 3
   },
   "file_extension": ".py",
   "mimetype": "text/x-python",
   "name": "python",
   "nbconvert_exporter": "python",
   "pygments_lexer": "ipython3",
   "version": "3.7.7"
  }
 },
 "nbformat": 4,
 "nbformat_minor": 4
}
