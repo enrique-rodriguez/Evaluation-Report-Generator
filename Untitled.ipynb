{
 "cells": [
  {
   "cell_type": "code",
   "execution_count": 8,
   "metadata": {},
   "outputs": [],
   "source": [
    "from configuration import settings\n",
    "import pandas as pd"
   ]
  },
  {
   "cell_type": "code",
   "execution_count": 9,
   "metadata": {},
   "outputs": [],
   "source": [
    "usecase = settings.container.get(\"CreateReport\")"
   ]
  },
  {
   "cell_type": "code",
   "execution_count": 10,
   "metadata": {},
   "outputs": [],
   "source": [
    "evaluations = [\n",
    "    \"data/Recinto-de-Ciencias-M-dicas-22-mayo-20-Formulario-Evaluaci-n-Lenguaje-de-Se-as-Secc-1(2020-07-11).csv\",\n",
    "    \"data/test_evaluation.csv\", \"data/-29-junio-20-en-adelante-Evaluaci-n-Certificado-Profesional-en-Inteligencia-Emocional-Sec-C-pm-(2020-07-08).csv\",\n",
    "    \"data/-8-mayo-20-UPR-H-Evaluaci-n-Manejo-de-la-productividad(2020-07-11).csv\"\n",
    "]"
   ]
  },
  {
   "cell_type": "code",
   "execution_count": 11,
   "metadata": {},
   "outputs": [],
   "source": [
    "usecase.create(evaluations, \"output.csv\")"
   ]
  },
  {
   "cell_type": "code",
   "execution_count": 12,
   "metadata": {},
   "outputs": [],
   "source": [
    "df = pd.read_csv('output.csv')"
   ]
  },
  {
   "cell_type": "code",
   "execution_count": 13,
   "metadata": {},
   "outputs": [
    {
     "data": {
      "text/html": [
       "<div>\n",
       "<style scoped>\n",
       "    .dataframe tbody tr th:only-of-type {\n",
       "        vertical-align: middle;\n",
       "    }\n",
       "\n",
       "    .dataframe tbody tr th {\n",
       "        vertical-align: top;\n",
       "    }\n",
       "\n",
       "    .dataframe thead th {\n",
       "        text-align: right;\n",
       "    }\n",
       "</style>\n",
       "<table border=\"1\" class=\"dataframe\">\n",
       "  <thead>\n",
       "    <tr style=\"text-align: right;\">\n",
       "      <th></th>\n",
       "      <th>Profesor</th>\n",
       "      <th>Curso</th>\n",
       "      <th>Numero de Estudiantes</th>\n",
       "      <th>Numero de Preguntas</th>\n",
       "      <th>Puntuación Obtenida</th>\n",
       "      <th>Puntuación Máxima</th>\n",
       "      <th>Promedio</th>\n",
       "    </tr>\n",
       "  </thead>\n",
       "  <tbody>\n",
       "    <tr>\n",
       "      <th>0</th>\n",
       "      <td>Soami Santiago</td>\n",
       "      <td>Recinto-de-Ciencias-M-dicas-22-mayo-20-Formula...</td>\n",
       "      <td>90</td>\n",
       "      <td>6</td>\n",
       "      <td>2139</td>\n",
       "      <td>2160</td>\n",
       "      <td>3.96</td>\n",
       "    </tr>\n",
       "    <tr>\n",
       "      <th>1</th>\n",
       "      <td>Dr. Professor T. Johnson</td>\n",
       "      <td>test_evaluation.csv</td>\n",
       "      <td>13</td>\n",
       "      <td>6</td>\n",
       "      <td>299</td>\n",
       "      <td>312</td>\n",
       "      <td>3.83</td>\n",
       "    </tr>\n",
       "    <tr>\n",
       "      <th>2</th>\n",
       "      <td>Dr. Edwin Morales</td>\n",
       "      <td>-29-junio-20-en-adelante-Evaluaci-n-Certificad...</td>\n",
       "      <td>13</td>\n",
       "      <td>6</td>\n",
       "      <td>299</td>\n",
       "      <td>312</td>\n",
       "      <td>3.83</td>\n",
       "    </tr>\n",
       "    <tr>\n",
       "      <th>3</th>\n",
       "      <td>Julio Cotto</td>\n",
       "      <td>-8-mayo-20-UPR-H-Evaluaci-n-Manejo-de-la-produ...</td>\n",
       "      <td>75</td>\n",
       "      <td>6</td>\n",
       "      <td>1691</td>\n",
       "      <td>1800</td>\n",
       "      <td>3.76</td>\n",
       "    </tr>\n",
       "  </tbody>\n",
       "</table>\n",
       "</div>"
      ],
      "text/plain": [
       "                   Profesor  \\\n",
       "0            Soami Santiago   \n",
       "1  Dr. Professor T. Johnson   \n",
       "2         Dr. Edwin Morales   \n",
       "3               Julio Cotto   \n",
       "\n",
       "                                               Curso  Numero de Estudiantes  \\\n",
       "0  Recinto-de-Ciencias-M-dicas-22-mayo-20-Formula...                     90   \n",
       "1                                test_evaluation.csv                     13   \n",
       "2  -29-junio-20-en-adelante-Evaluaci-n-Certificad...                     13   \n",
       "3  -8-mayo-20-UPR-H-Evaluaci-n-Manejo-de-la-produ...                     75   \n",
       "\n",
       "   Numero de Preguntas  Puntuación Obtenida  Puntuación Máxima  Promedio  \n",
       "0                    6                 2139               2160      3.96  \n",
       "1                    6                  299                312      3.83  \n",
       "2                    6                  299                312      3.83  \n",
       "3                    6                 1691               1800      3.76  "
      ]
     },
     "execution_count": 13,
     "metadata": {},
     "output_type": "execute_result"
    }
   ],
   "source": [
    "df"
   ]
  },
  {
   "cell_type": "code",
   "execution_count": null,
   "metadata": {},
   "outputs": [],
   "source": []
  }
 ],
 "metadata": {
  "kernelspec": {
   "display_name": "Python 3",
   "language": "python",
   "name": "python3"
  },
  "language_info": {
   "codemirror_mode": {
    "name": "ipython",
    "version": 3
   },
   "file_extension": ".py",
   "mimetype": "text/x-python",
   "name": "python",
   "nbconvert_exporter": "python",
   "pygments_lexer": "ipython3",
   "version": "3.7.7"
  }
 },
 "nbformat": 4,
 "nbformat_minor": 4
}
