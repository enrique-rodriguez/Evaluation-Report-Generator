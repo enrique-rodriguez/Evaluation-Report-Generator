{
 "cells": [
  {
   "cell_type": "code",
   "execution_count": 78,
   "metadata": {},
   "outputs": [],
   "source": [
    "import pandas as pd\n",
    "import re\n",
    "from functools import reduce"
   ]
  },
  {
   "cell_type": "code",
   "execution_count": 125,
   "metadata": {},
   "outputs": [
    {
     "name": "stdout",
     "output_type": "stream",
     "text": [
      "4\n"
     ]
    }
   ],
   "source": [
    "FILE = \"data/-29-junio-20-en-adelante-Evaluaci-n-Certificado-Profesional-en-Inteligencia-Emocional-Sec-C-pm-(2020-07-08).csv\"\n",
    "\n",
    "pattern = \"(Excelente|Bueno|Regular|Deficiente) \\((\\d)\\)\" # Matches evaluation strings like 'Excelente (4)'\n",
    "\n",
    "program = re.compile(pattern)\n",
    "\n",
    "match = program.match(\"Excelente (4)\")\n",
    "\n",
    "if match:\n",
    "    print(match.group(2))\n"
   ]
  },
  {
   "cell_type": "code",
   "execution_count": 124,
   "metadata": {},
   "outputs": [],
   "source": [
    "df = pd.read_csv(FILE)"
   ]
  },
  {
   "cell_type": "code",
   "execution_count": 147,
   "metadata": {},
   "outputs": [],
   "source": [
    "def adder(total, match):\n",
    "            \n",
    "    if match:\n",
    "        points = int(match.group(2))\n",
    "        total += points\n",
    "        \n",
    "    return total"
   ]
  },
  {
   "cell_type": "code",
   "execution_count": 148,
   "metadata": {},
   "outputs": [
    {
     "name": "stdout",
     "output_type": "stream",
     "text": [
      "299\n"
     ]
    }
   ],
   "source": [
    "points = []\n",
    "\n",
    "\n",
    "for column in df.columns:\n",
    "    if column.startswith(\"Criterios de evaluación: >>\"):\n",
    "        matches = [program.match(element) for element in df[column] if isinstance(element, str)]\n",
    "        value = reduce(adder, matches, 0)\n",
    "        points.append(value)\n",
    "\n",
    "print(sum(points))"
   ]
  },
  {
   "cell_type": "code",
   "execution_count": null,
   "metadata": {},
   "outputs": [],
   "source": []
  }
 ],
 "metadata": {
  "kernelspec": {
   "display_name": "Python 3",
   "language": "python",
   "name": "python3"
  },
  "language_info": {
   "codemirror_mode": {
    "name": "ipython",
    "version": 3
   },
   "file_extension": ".py",
   "mimetype": "text/x-python",
   "name": "python",
   "nbconvert_exporter": "python",
   "pygments_lexer": "ipython3",
   "version": "3.7.7"
  }
 },
 "nbformat": 4,
 "nbformat_minor": 4
}
