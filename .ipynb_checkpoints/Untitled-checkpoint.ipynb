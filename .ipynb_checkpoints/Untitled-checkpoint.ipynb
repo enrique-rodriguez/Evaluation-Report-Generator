{
 "cells": [
  {
   "cell_type": "code",
   "execution_count": 1,
   "metadata": {},
   "outputs": [],
   "source": [
    "from configuration import settings\n",
    "import pandas as pd"
   ]
  },
  {
   "cell_type": "code",
   "execution_count": 2,
   "metadata": {},
   "outputs": [],
   "source": [
    "usecase = settings.container.get(\"CreateReport\")"
   ]
  },
  {
   "cell_type": "code",
   "execution_count": 3,
   "metadata": {},
   "outputs": [],
   "source": [
    "evaluations = [\n",
    "    \"data/-02-junio-20-Evaluaci-n-UPRRP-Secc-1-AM-Sensibilizaci-n-hacia-el-trabajo-remoto(2020-07-12).csv\"\n",
    "]"
   ]
  },
  {
   "cell_type": "code",
   "execution_count": 4,
   "metadata": {},
   "outputs": [
    {
     "ename": "EmptyReport",
     "evalue": "The Report is Empty",
     "output_type": "error",
     "traceback": [
      "\u001b[0;31m---------------------------------------------------------------------------\u001b[0m",
      "\u001b[0;31mEmptyReport\u001b[0m                               Traceback (most recent call last)",
      "\u001b[0;32m<ipython-input-4-b402f22bf7c0>\u001b[0m in \u001b[0;36m<module>\u001b[0;34m\u001b[0m\n\u001b[0;32m----> 1\u001b[0;31m \u001b[0musecase\u001b[0m\u001b[0;34m.\u001b[0m\u001b[0mcreate\u001b[0m\u001b[0;34m(\u001b[0m\u001b[0mevaluations\u001b[0m\u001b[0;34m,\u001b[0m \u001b[0;34m\"output2.csv\"\u001b[0m\u001b[0;34m)\u001b[0m\u001b[0;34m\u001b[0m\u001b[0;34m\u001b[0m\u001b[0m\n\u001b[0m",
      "\u001b[0;32m~/Desktop/report-generator/report_generator/usecases/create_report.py\u001b[0m in \u001b[0;36mcreate\u001b[0;34m(self, evaluations, output_file)\u001b[0m\n\u001b[1;32m     19\u001b[0m \u001b[0;34m\u001b[0m\u001b[0m\n\u001b[1;32m     20\u001b[0m         \u001b[0;32mif\u001b[0m \u001b[0mlen\u001b[0m\u001b[0;34m(\u001b[0m\u001b[0mreport\u001b[0m\u001b[0;34m)\u001b[0m \u001b[0;34m==\u001b[0m \u001b[0;36m0\u001b[0m\u001b[0;34m:\u001b[0m\u001b[0;34m\u001b[0m\u001b[0;34m\u001b[0m\u001b[0m\n\u001b[0;32m---> 21\u001b[0;31m             \u001b[0;32mraise\u001b[0m \u001b[0mself\u001b[0m\u001b[0;34m.\u001b[0m\u001b[0mEmptyReport\u001b[0m\u001b[0;34m\u001b[0m\u001b[0;34m\u001b[0m\u001b[0m\n\u001b[0m\u001b[1;32m     22\u001b[0m \u001b[0;34m\u001b[0m\u001b[0m\n\u001b[1;32m     23\u001b[0m         \u001b[0mwriter\u001b[0m \u001b[0;34m=\u001b[0m \u001b[0mself\u001b[0m\u001b[0;34m.\u001b[0m\u001b[0mget_appropriate_writer\u001b[0m\u001b[0;34m(\u001b[0m\u001b[0moutput_file\u001b[0m\u001b[0;34m)\u001b[0m\u001b[0;34m\u001b[0m\u001b[0;34m\u001b[0m\u001b[0m\n",
      "\u001b[0;31mEmptyReport\u001b[0m: The Report is Empty"
     ]
    }
   ],
   "source": [
    "usecase.create(evaluations, \"output2.csv\")"
   ]
  },
  {
   "cell_type": "code",
   "execution_count": 24,
   "metadata": {},
   "outputs": [],
   "source": [
    "df = pd.read_csv('output.csv')"
   ]
  },
  {
   "cell_type": "code",
   "execution_count": 25,
   "metadata": {},
   "outputs": [
    {
     "data": {
      "text/html": [
       "<div>\n",
       "<style scoped>\n",
       "    .dataframe tbody tr th:only-of-type {\n",
       "        vertical-align: middle;\n",
       "    }\n",
       "\n",
       "    .dataframe tbody tr th {\n",
       "        vertical-align: top;\n",
       "    }\n",
       "\n",
       "    .dataframe thead th {\n",
       "        text-align: right;\n",
       "    }\n",
       "</style>\n",
       "<table border=\"1\" class=\"dataframe\">\n",
       "  <thead>\n",
       "    <tr style=\"text-align: right;\">\n",
       "      <th></th>\n",
       "      <th>Profesor</th>\n",
       "      <th>Curso</th>\n",
       "      <th>Numero de Estudiantes</th>\n",
       "      <th>Numero de Preguntas</th>\n",
       "      <th>Puntuación Obtenida</th>\n",
       "      <th>Puntuación Máxima</th>\n",
       "      <th>Promedio</th>\n",
       "    </tr>\n",
       "  </thead>\n",
       "  <tbody>\n",
       "    <tr>\n",
       "      <th>0</th>\n",
       "      <td>Soami Santiago</td>\n",
       "      <td>Recinto-de-Ciencias-M-dicas-22-mayo-20-Formula...</td>\n",
       "      <td>90</td>\n",
       "      <td>6</td>\n",
       "      <td>2139</td>\n",
       "      <td>2160</td>\n",
       "      <td>3.96</td>\n",
       "    </tr>\n",
       "    <tr>\n",
       "      <th>1</th>\n",
       "      <td>Dr. Edwin Morales</td>\n",
       "      <td>-29-junio-20-en-adelante-Evaluaci-n-Certificad...</td>\n",
       "      <td>13</td>\n",
       "      <td>6</td>\n",
       "      <td>299</td>\n",
       "      <td>312</td>\n",
       "      <td>3.83</td>\n",
       "    </tr>\n",
       "    <tr>\n",
       "      <th>2</th>\n",
       "      <td>Julio Cotto</td>\n",
       "      <td>-8-mayo-20-UPR-H-Evaluaci-n-Manejo-de-la-produ...</td>\n",
       "      <td>75</td>\n",
       "      <td>6</td>\n",
       "      <td>1691</td>\n",
       "      <td>1800</td>\n",
       "      <td>3.76</td>\n",
       "    </tr>\n",
       "  </tbody>\n",
       "</table>\n",
       "</div>"
      ],
      "text/plain": [
       "            Profesor                                              Curso  \\\n",
       "0     Soami Santiago  Recinto-de-Ciencias-M-dicas-22-mayo-20-Formula...   \n",
       "1  Dr. Edwin Morales  -29-junio-20-en-adelante-Evaluaci-n-Certificad...   \n",
       "2        Julio Cotto  -8-mayo-20-UPR-H-Evaluaci-n-Manejo-de-la-produ...   \n",
       "\n",
       "   Numero de Estudiantes  Numero de Preguntas  Puntuación Obtenida  \\\n",
       "0                     90                    6                 2139   \n",
       "1                     13                    6                  299   \n",
       "2                     75                    6                 1691   \n",
       "\n",
       "   Puntuación Máxima  Promedio  \n",
       "0               2160      3.96  \n",
       "1                312      3.83  \n",
       "2               1800      3.76  "
      ]
     },
     "execution_count": 25,
     "metadata": {},
     "output_type": "execute_result"
    }
   ],
   "source": [
    "df"
   ]
  },
  {
   "cell_type": "code",
   "execution_count": null,
   "metadata": {},
   "outputs": [],
   "source": []
  }
 ],
 "metadata": {
  "kernelspec": {
   "display_name": "Python 3",
   "language": "python",
   "name": "python3"
  },
  "language_info": {
   "codemirror_mode": {
    "name": "ipython",
    "version": 3
   },
   "file_extension": ".py",
   "mimetype": "text/x-python",
   "name": "python",
   "nbconvert_exporter": "python",
   "pygments_lexer": "ipython3",
   "version": "3.7.7"
  }
 },
 "nbformat": 4,
 "nbformat_minor": 4
}
